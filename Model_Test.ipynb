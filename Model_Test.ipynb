{
 "cells": [
  {
   "cell_type": "code",
   "execution_count": 1,
   "metadata": {},
   "outputs": [],
   "source": [
    "import pytorch_lightning as pl\n",
    "from models.inpainting_model import InpaintingModel\n",
    "from models.flow_model import FlowModel\n",
    "from models.occlusion_model import OcclusionModel\n",
    "from models.flow_occ_model import FlowOccModel\n",
    "# flow occ model should be ['simple', 'flowoccnets', 'flowoccnetc', 'pwoc', 'flowoccnet']\n",
    "# optical flow model should be ['simple', 'flownets', 'flownetc', 'pwc', 'flownet']\n",
    "# occlusion model should be ['simple', 'occnets', 'occnetc']\n",
    "hparams = dict(learning_rate=1e-3, batch_size=1, image_size=(512, 1024), model='flowoccnet')\n",
    "root = r'C:\\Users\\caodo\\Desktop\\TUM\\Praktikum Visual Computing\\project\\data'\n",
    "model = FlowOccModel(root=root, hparams=hparams)"
   ]
  },
  {
   "cell_type": "code",
   "execution_count": 2,
   "metadata": {},
   "outputs": [
    {
     "name": "stderr",
     "output_type": "stream",
     "text": [
      "GPU available: True, used: False\n",
      "No environment variable for node rank defined. Set as 0.\n",
      "\n",
      "    | Name                                               | Type                 | Params\n",
      "----------------------------------------------------------------------------------------\n",
      "0   | model                                              | FlowOccNet           | 6 M   \n",
      "1   | model.correlation_layer                            | CostVolumeLayer      | 0     \n",
      "2   | model.feature_pyramid_network                      | FeaturePyramidNet    | 1 M   \n",
      "3   | model.feature_pyramid_network.layer1               | DoubleConv           | 2 K   \n",
      "4   | model.feature_pyramid_network.layer1.double_conv   | Sequential           | 2 K   \n",
      "5   | model.feature_pyramid_network.layer1.double_conv.0 | Conv2d               | 432   \n",
      "6   | model.feature_pyramid_network.layer1.double_conv.1 | BatchNorm2d          | 32    \n",
      "7   | model.feature_pyramid_network.layer1.double_conv.2 | LeakyReLU            | 0     \n",
      "8   | model.feature_pyramid_network.layer1.double_conv.3 | Conv2d               | 2 K   \n",
      "9   | model.feature_pyramid_network.layer1.double_conv.4 | BatchNorm2d          | 32    \n",
      "10  | model.feature_pyramid_network.layer1.double_conv.5 | LeakyReLU            | 0     \n",
      "11  | model.feature_pyramid_network.layer2               | DoubleConv           | 13 K  \n",
      "12  | model.feature_pyramid_network.layer2.double_conv   | Sequential           | 13 K  \n",
      "13  | model.feature_pyramid_network.layer2.double_conv.0 | Conv2d               | 4 K   \n",
      "14  | model.feature_pyramid_network.layer2.double_conv.1 | BatchNorm2d          | 64    \n",
      "15  | model.feature_pyramid_network.layer2.double_conv.2 | LeakyReLU            | 0     \n",
      "16  | model.feature_pyramid_network.layer2.double_conv.3 | Conv2d               | 9 K   \n",
      "17  | model.feature_pyramid_network.layer2.double_conv.4 | BatchNorm2d          | 64    \n",
      "18  | model.feature_pyramid_network.layer2.double_conv.5 | LeakyReLU            | 0     \n",
      "19  | model.feature_pyramid_network.layer3               | DoubleConv           | 55 K  \n",
      "20  | model.feature_pyramid_network.layer3.double_conv   | Sequential           | 55 K  \n",
      "21  | model.feature_pyramid_network.layer3.double_conv.0 | Conv2d               | 18 K  \n",
      "22  | model.feature_pyramid_network.layer3.double_conv.1 | BatchNorm2d          | 128   \n",
      "23  | model.feature_pyramid_network.layer3.double_conv.2 | LeakyReLU            | 0     \n",
      "24  | model.feature_pyramid_network.layer3.double_conv.3 | Conv2d               | 36 K  \n",
      "25  | model.feature_pyramid_network.layer3.double_conv.4 | BatchNorm2d          | 128   \n",
      "26  | model.feature_pyramid_network.layer3.double_conv.5 | LeakyReLU            | 0     \n",
      "27  | model.feature_pyramid_network.layer4               | DoubleConv           | 138 K \n",
      "28  | model.feature_pyramid_network.layer4.double_conv   | Sequential           | 138 K \n",
      "29  | model.feature_pyramid_network.layer4.double_conv.0 | Conv2d               | 55 K  \n",
      "30  | model.feature_pyramid_network.layer4.double_conv.1 | BatchNorm2d          | 192   \n",
      "31  | model.feature_pyramid_network.layer4.double_conv.2 | LeakyReLU            | 0     \n",
      "32  | model.feature_pyramid_network.layer4.double_conv.3 | Conv2d               | 82 K  \n",
      "33  | model.feature_pyramid_network.layer4.double_conv.4 | BatchNorm2d          | 192   \n",
      "34  | model.feature_pyramid_network.layer4.double_conv.5 | LeakyReLU            | 0     \n",
      "35  | model.feature_pyramid_network.layer5               | DoubleConv           | 258 K \n",
      "36  | model.feature_pyramid_network.layer5.double_conv   | Sequential           | 258 K \n",
      "37  | model.feature_pyramid_network.layer5.double_conv.0 | Conv2d               | 110 K \n",
      "38  | model.feature_pyramid_network.layer5.double_conv.1 | BatchNorm2d          | 256   \n",
      "39  | model.feature_pyramid_network.layer5.double_conv.2 | LeakyReLU            | 0     \n",
      "40  | model.feature_pyramid_network.layer5.double_conv.3 | Conv2d               | 147 K \n",
      "41  | model.feature_pyramid_network.layer5.double_conv.4 | BatchNorm2d          | 256   \n",
      "42  | model.feature_pyramid_network.layer5.double_conv.5 | LeakyReLU            | 0     \n",
      "43  | model.feature_pyramid_network.layer6               | DoubleConv           | 572 K \n",
      "44  | model.feature_pyramid_network.layer6.double_conv   | Sequential           | 572 K \n",
      "45  | model.feature_pyramid_network.layer6.double_conv.0 | Conv2d               | 225 K \n",
      "46  | model.feature_pyramid_network.layer6.double_conv.1 | BatchNorm2d          | 392   \n",
      "47  | model.feature_pyramid_network.layer6.double_conv.2 | LeakyReLU            | 0     \n",
      "48  | model.feature_pyramid_network.layer6.double_conv.3 | Conv2d               | 345 K \n",
      "49  | model.feature_pyramid_network.layer6.double_conv.4 | BatchNorm2d          | 392   \n",
      "50  | model.feature_pyramid_network.layer6.double_conv.5 | LeakyReLU            | 0     \n",
      "51  | model.feature_pyramid_network.pyr_top              | Sequential           | 38 K  \n",
      "52  | model.feature_pyramid_network.pyr_top.0            | Conv2d               | 38 K  \n",
      "53  | model.feature_pyramid_network.pyr_top.1            | BatchNorm2d          | 392   \n",
      "54  | model.feature_pyramid_network.pyr_top.2            | LeakyReLU            | 0     \n",
      "55  | model.feature_pyramid_network.upsample5            | Upsample             | 226 K \n",
      "56  | model.feature_pyramid_network.upsample5.deconv     | ConvTranspose2d      | 225 K \n",
      "57  | model.feature_pyramid_network.upsample5.batchnorm  | BatchNorm2d          | 256   \n",
      "58  | model.feature_pyramid_network.upsample5.leaky      | LeakyReLU            | 0     \n",
      "59  | model.feature_pyramid_network.upsample4            | Upsample             | 110 K \n",
      "60  | model.feature_pyramid_network.upsample4.deconv     | ConvTranspose2d      | 110 K \n",
      "61  | model.feature_pyramid_network.upsample4.batchnorm  | BatchNorm2d          | 192   \n",
      "62  | model.feature_pyramid_network.upsample4.leaky      | LeakyReLU            | 0     \n",
      "63  | model.feature_pyramid_network.upsample3            | Upsample             | 55 K  \n",
      "64  | model.feature_pyramid_network.upsample3.deconv     | ConvTranspose2d      | 55 K  \n",
      "65  | model.feature_pyramid_network.upsample3.batchnorm  | BatchNorm2d          | 128   \n",
      "66  | model.feature_pyramid_network.upsample3.leaky      | LeakyReLU            | 0     \n",
      "67  | model.feature_pyramid_network.upsample2            | Upsample             | 18 K  \n",
      "68  | model.feature_pyramid_network.upsample2.deconv     | ConvTranspose2d      | 18 K  \n",
      "69  | model.feature_pyramid_network.upsample2.batchnorm  | BatchNorm2d          | 64    \n",
      "70  | model.feature_pyramid_network.upsample2.leaky      | LeakyReLU            | 0     \n",
      "71  | model.opticalflow_estimators                       | ModuleList           | 2 M   \n",
      "72  | model.opticalflow_estimators.0                     | OpticalFlowEstimator | 652 K \n",
      "73  | model.opticalflow_estimators.0.conv1               | Conv2d               | 319 K \n",
      "74  | model.opticalflow_estimators.0.conv2               | Conv2d               | 147 K \n",
      "75  | model.opticalflow_estimators.0.conv3               | Conv2d               | 110 K \n",
      "76  | model.opticalflow_estimators.0.conv4               | Conv2d               | 55 K  \n",
      "77  | model.opticalflow_estimators.0.conv5               | Conv2d               | 18 K  \n",
      "78  | model.opticalflow_estimators.0.conv6               | Conv2d               | 578   \n",
      "79  | model.opticalflow_estimators.0.upconv1             | ConvTranspose2d      | 38    \n",
      "80  | model.opticalflow_estimators.0.upconv2             | ConvTranspose2d      | 578   \n",
      "81  | model.opticalflow_estimators.1                     | OpticalFlowEstimator | 578 K \n",
      "82  | model.opticalflow_estimators.1.conv1               | Conv2d               | 245 K \n",
      "83  | model.opticalflow_estimators.1.conv2               | Conv2d               | 147 K \n",
      "84  | model.opticalflow_estimators.1.conv3               | Conv2d               | 110 K \n",
      "85  | model.opticalflow_estimators.1.conv4               | Conv2d               | 55 K  \n",
      "86  | model.opticalflow_estimators.1.conv5               | Conv2d               | 18 K  \n",
      "87  | model.opticalflow_estimators.1.conv6               | Conv2d               | 578   \n",
      "88  | model.opticalflow_estimators.1.upconv1             | ConvTranspose2d      | 38    \n",
      "89  | model.opticalflow_estimators.1.upconv2             | ConvTranspose2d      | 578   \n",
      "90  | model.opticalflow_estimators.2                     | OpticalFlowEstimator | 541 K \n",
      "91  | model.opticalflow_estimators.2.conv1               | Conv2d               | 208 K \n",
      "92  | model.opticalflow_estimators.2.conv2               | Conv2d               | 147 K \n",
      "93  | model.opticalflow_estimators.2.conv3               | Conv2d               | 110 K \n",
      "94  | model.opticalflow_estimators.2.conv4               | Conv2d               | 55 K  \n",
      "95  | model.opticalflow_estimators.2.conv5               | Conv2d               | 18 K  \n",
      "96  | model.opticalflow_estimators.2.conv6               | Conv2d               | 578   \n",
      "97  | model.opticalflow_estimators.2.upconv1             | ConvTranspose2d      | 38    \n",
      "98  | model.opticalflow_estimators.2.upconv2             | ConvTranspose2d      | 578   \n",
      "99  | model.opticalflow_estimators.3                     | OpticalFlowEstimator | 505 K \n",
      "100 | model.opticalflow_estimators.3.conv1               | Conv2d               | 171 K \n",
      "101 | model.opticalflow_estimators.3.conv2               | Conv2d               | 147 K \n",
      "102 | model.opticalflow_estimators.3.conv3               | Conv2d               | 110 K \n",
      "103 | model.opticalflow_estimators.3.conv4               | Conv2d               | 55 K  \n",
      "104 | model.opticalflow_estimators.3.conv5               | Conv2d               | 18 K  \n",
      "105 | model.opticalflow_estimators.3.conv6               | Conv2d               | 578   \n",
      "106 | model.opticalflow_estimators.3.upconv1             | ConvTranspose2d      | 38    \n",
      "107 | model.opticalflow_estimators.3.upconv2             | ConvTranspose2d      | 578   \n",
      "108 | model.opticalflow_estimators.4                     | OpticalFlowEstimator | 468 K \n",
      "109 | model.opticalflow_estimators.4.conv1               | Conv2d               | 134 K \n",
      "110 | model.opticalflow_estimators.4.conv2               | Conv2d               | 147 K \n",
      "111 | model.opticalflow_estimators.4.conv3               | Conv2d               | 110 K \n",
      "112 | model.opticalflow_estimators.4.conv4               | Conv2d               | 55 K  \n",
      "113 | model.opticalflow_estimators.4.conv5               | Conv2d               | 18 K  \n",
      "114 | model.opticalflow_estimators.4.conv6               | Conv2d               | 578   \n",
      "115 | model.opticalflow_estimators.4.upconv1             | ConvTranspose2d      | 38    \n",
      "116 | model.opticalflow_estimators.4.upconv2             | ConvTranspose2d      | 578   \n",
      "117 | model.occlusion_estimators                         | ModuleList           | 2 M   \n",
      "118 | model.occlusion_estimators.0                       | OcclusionEstimator   | 641 K \n",
      "119 | model.occlusion_estimators.0.conv1                 | Conv2d               | 451 K \n",
      "120 | model.occlusion_estimators.0.conv2                 | Conv2d               | 110 K \n",
      "121 | model.occlusion_estimators.0.conv3                 | Conv2d               | 55 K  \n",
      "122 | model.occlusion_estimators.0.conv4                 | Conv2d               | 18 K  \n",
      "123 | model.occlusion_estimators.0.feat_layer            | Conv2d               | 4 K   \n",
      "124 | model.occlusion_estimators.0.mask_layer            | Conv2d               | 145   \n",
      "125 | model.occlusion_estimators.0.upconv1               | ConvTranspose2d      | 145   \n",
      "126 | model.occlusion_estimators.0.upconv2               | ConvTranspose2d      | 10    \n",
      "127 | model.occlusion_estimators.1                       | OcclusionEstimator   | 486 K \n",
      "128 | model.occlusion_estimators.1.conv1                 | Conv2d               | 297 K \n",
      "129 | model.occlusion_estimators.1.conv2                 | Conv2d               | 110 K \n",
      "130 | model.occlusion_estimators.1.conv3                 | Conv2d               | 55 K  \n",
      "131 | model.occlusion_estimators.1.conv4                 | Conv2d               | 18 K  \n",
      "132 | model.occlusion_estimators.1.feat_layer            | Conv2d               | 4 K   \n",
      "133 | model.occlusion_estimators.1.mask_layer            | Conv2d               | 145   \n",
      "134 | model.occlusion_estimators.1.upconv1               | ConvTranspose2d      | 145   \n",
      "135 | model.occlusion_estimators.1.upconv2               | ConvTranspose2d      | 10    \n",
      "136 | model.occlusion_estimators.2                       | OcclusionEstimator   | 413 K \n",
      "137 | model.occlusion_estimators.2.conv1                 | Conv2d               | 223 K \n",
      "138 | model.occlusion_estimators.2.conv2                 | Conv2d               | 110 K \n",
      "139 | model.occlusion_estimators.2.conv3                 | Conv2d               | 55 K  \n",
      "140 | model.occlusion_estimators.2.conv4                 | Conv2d               | 18 K  \n",
      "141 | model.occlusion_estimators.2.feat_layer            | Conv2d               | 4 K   \n",
      "142 | model.occlusion_estimators.2.mask_layer            | Conv2d               | 145   \n",
      "143 | model.occlusion_estimators.2.upconv1               | ConvTranspose2d      | 145   \n",
      "144 | model.occlusion_estimators.2.upconv2               | ConvTranspose2d      | 10    \n",
      "145 | model.occlusion_estimators.3                       | OcclusionEstimator   | 339 K \n",
      "146 | model.occlusion_estimators.3.conv1                 | Conv2d               | 149 K \n",
      "147 | model.occlusion_estimators.3.conv2                 | Conv2d               | 110 K \n",
      "148 | model.occlusion_estimators.3.conv3                 | Conv2d               | 55 K  \n",
      "149 | model.occlusion_estimators.3.conv4                 | Conv2d               | 18 K  \n",
      "150 | model.occlusion_estimators.3.feat_layer            | Conv2d               | 4 K   \n",
      "151 | model.occlusion_estimators.3.mask_layer            | Conv2d               | 145   \n",
      "152 | model.occlusion_estimators.3.upconv1               | ConvTranspose2d      | 145   \n",
      "153 | model.occlusion_estimators.3.upconv2               | ConvTranspose2d      | 10    \n",
      "154 | model.occlusion_estimators.4                       | OcclusionEstimator   | 265 K \n",
      "155 | model.occlusion_estimators.4.conv1                 | Conv2d               | 76 K  \n",
      "156 | model.occlusion_estimators.4.conv2                 | Conv2d               | 110 K \n",
      "157 | model.occlusion_estimators.4.conv3                 | Conv2d               | 55 K  \n",
      "158 | model.occlusion_estimators.4.conv4                 | Conv2d               | 18 K  \n",
      "159 | model.occlusion_estimators.4.feat_layer            | Conv2d               | 4 K   \n",
      "160 | model.occlusion_estimators.4.mask_layer            | Conv2d               | 145   \n",
      "161 | model.occlusion_estimators.4.upconv1               | ConvTranspose2d      | 145   \n",
      "162 | model.occlusion_estimators.4.upconv2               | ConvTranspose2d      | 10    \n",
      "163 | model.context_network                              | ContextNetwork       | 519 K \n",
      "164 | model.context_network.conv1                        | Conv2d               | 39 K  \n",
      "165 | model.context_network.conv2                        | Conv2d               | 147 K \n",
      "166 | model.context_network.conv3                        | Conv2d               | 147 K \n",
      "167 | model.context_network.conv4                        | Conv2d               | 110 K \n",
      "168 | model.context_network.conv5                        | Conv2d               | 55 K  \n",
      "169 | model.context_network.conv6                        | Conv2d               | 18 K  \n",
      "170 | model.context_network.conv7                        | Conv2d               | 578   \n",
      "171 | model.upsample1                                    | Upsample             | 0     \n",
      "172 | model.upsample2                                    | Upsample             | 0     \n"
     ]
    },
    {
     "data": {
      "application/vnd.jupyter.widget-view+json": {
       "model_id": "",
       "version_major": 2,
       "version_minor": 0
      },
      "text/plain": [
       "HBox(children=(HTML(value='Validation sanity check'), FloatProgress(value=1.0, bar_style='info', layout=Layout…"
      ]
     },
     "metadata": {},
     "output_type": "display_data"
    },
    {
     "name": "stderr",
     "output_type": "stream",
     "text": [
      "C:\\Users\\caodo\\anaconda3\\lib\\site-packages\\torch\\nn\\functional.py:3063: UserWarning: Default upsampling behavior when mode=bilinear is changed to align_corners=False since 0.4.0. Please specify align_corners=True if the old behavior is desired. See the documentation of nn.Upsample for details.\n",
      "  \"See the documentation of nn.Upsample for details.\".format(mode))\n"
     ]
    },
    {
     "name": "stdout",
     "output_type": "stream",
     "text": [
      "Val-Loss: 14.3299\n"
     ]
    },
    {
     "data": {
      "application/vnd.jupyter.widget-view+json": {
       "model_id": "2354b9be56ee4101a55e00e94ac11863",
       "version_major": 2,
       "version_minor": 0
      },
      "text/plain": [
       "HBox(children=(HTML(value='Training'), FloatProgress(value=1.0, bar_style='info', layout=Layout(flex='2'), max…"
      ]
     },
     "metadata": {},
     "output_type": "display_data"
    },
    {
     "name": "stderr",
     "output_type": "stream",
     "text": [
      "Detected KeyboardInterrupt, attempting graceful shutdown...\n"
     ]
    },
    {
     "name": "stdout",
     "output_type": "stream",
     "text": [
      "\n"
     ]
    },
    {
     "data": {
      "text/plain": [
       "1"
      ]
     },
     "execution_count": 2,
     "metadata": {},
     "output_type": "execute_result"
    }
   ],
   "source": [
    "max_epochs = 5\n",
    "\n",
    "trainer = pl.Trainer(\n",
    "    max_epochs=max_epochs,\n",
    "    gpus=0\n",
    ")\n",
    "\n",
    "trainer.fit(model)"
   ]
  },
  {
   "cell_type": "code",
   "execution_count": null,
   "metadata": {},
   "outputs": [],
   "source": []
  }
 ],
 "metadata": {
  "kernelspec": {
   "display_name": "Python 3",
   "language": "python",
   "name": "python3"
  },
  "language_info": {
   "codemirror_mode": {
    "name": "ipython",
    "version": 3
   },
   "file_extension": ".py",
   "mimetype": "text/x-python",
   "name": "python",
   "nbconvert_exporter": "python",
   "pygments_lexer": "ipython3",
   "version": "3.7.6"
  }
 },
 "nbformat": 4,
 "nbformat_minor": 4
}
