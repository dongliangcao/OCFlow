{
 "cells": [
  {
   "cell_type": "code",
   "execution_count": 1,
   "metadata": {},
   "outputs": [],
   "source": [
    "import pytorch_lightning as pl\n",
    "from models.inpainting_model import InpaintingModel\n",
    "from models.flow_model import FlowModel\n",
    "from models.occlusion_model import OcclusionModel\n",
    "from models.flow_occ_model import FlowOccModel\n",
    "# flow occ model should be ['simple', 'flowoccnets', 'flowoccnetc', 'pwoc', 'flowoccnet']\n",
    "# optical flow model should be ['simple', 'flownets', 'flownetc', 'pwc', 'flownet']\n",
    "# occlusion model should be ['simple', 'occnets', 'occnetc']\n",
    "hparams = dict(learning_rate=1e-3, batch_size=1, image_size=(512, 1024), model='flowoccnet')\n",
    "root = r'C:\\Users\\caodo\\Desktop\\TUM\\Praktikum Visual Computing\\project\\data'\n",
    "model = InpaintingModel(root=root, hparams=hparams)"
   ]
  },
  {
   "cell_type": "code",
   "execution_count": 2,
   "metadata": {},
   "outputs": [
    {
     "name": "stderr",
     "output_type": "stream",
     "text": [
      "GPU available: True, used: False\n",
      "No environment variable for node rank defined. Set as 0.\n",
      "\n",
      "   | Name                   | Type               | Params\n",
      "----------------------------------------------------------\n",
      "0  | model                  | SceneCompletionNet | 25 M  \n",
      "1  | model.down1            | Downsample         | 9 K   \n",
      "2  | model.down1.conv       | Conv2d             | 9 K   \n",
      "3  | model.down1.activation | ReLU               | 0     \n",
      "4  | model.down2            | Downsample         | 205 K \n",
      "5  | model.down2.conv       | Conv2d             | 204 K \n",
      "6  | model.down2.normalize  | BatchNorm2d        | 256   \n",
      "7  | model.down2.activation | ReLU               | 0     \n",
      "8  | model.down3            | Downsample         | 819 K \n",
      "9  | model.down3.conv       | Conv2d             | 819 K \n",
      "10 | model.down3.normalize  | BatchNorm2d        | 512   \n",
      "11 | model.down3.activation | ReLU               | 0     \n",
      "12 | model.down4            | Downsample         | 1 M   \n",
      "13 | model.down4.conv       | Conv2d             | 1 M   \n",
      "14 | model.down4.normalize  | BatchNorm2d        | 1 K   \n",
      "15 | model.down4.activation | ReLU               | 0     \n",
      "16 | model.down5            | Downsample         | 2 M   \n",
      "17 | model.down5.conv       | Conv2d             | 2 M   \n",
      "18 | model.down5.normalize  | BatchNorm2d        | 1 K   \n",
      "19 | model.down5.activation | ReLU               | 0     \n",
      "20 | model.down6            | Downsample         | 2 M   \n",
      "21 | model.down6.conv       | Conv2d             | 2 M   \n",
      "22 | model.down6.normalize  | BatchNorm2d        | 1 K   \n",
      "23 | model.down6.activation | ReLU               | 0     \n",
      "24 | model.down7            | Downsample         | 2 M   \n",
      "25 | model.down7.conv       | Conv2d             | 2 M   \n",
      "26 | model.down7.normalize  | BatchNorm2d        | 1 K   \n",
      "27 | model.down7.activation | ReLU               | 0     \n",
      "28 | model.up1              | Upsample           | 4 M   \n",
      "29 | model.up1.up           | Upsample           | 0     \n",
      "30 | model.up1.conv         | Conv2d             | 4 M   \n",
      "31 | model.up1.normalize    | BatchNorm2d        | 1 K   \n",
      "32 | model.up1.activation   | LeakyReLU          | 0     \n",
      "33 | model.up2              | Upsample           | 4 M   \n",
      "34 | model.up2.up           | Upsample           | 0     \n",
      "35 | model.up2.conv         | Conv2d             | 4 M   \n",
      "36 | model.up2.normalize    | BatchNorm2d        | 1 K   \n",
      "37 | model.up2.activation   | LeakyReLU          | 0     \n",
      "38 | model.up3              | Upsample           | 4 M   \n",
      "39 | model.up3.up           | Upsample           | 0     \n",
      "40 | model.up3.conv         | Conv2d             | 4 M   \n",
      "41 | model.up3.normalize    | BatchNorm2d        | 1 K   \n",
      "42 | model.up3.activation   | LeakyReLU          | 0     \n",
      "43 | model.up4              | Upsample           | 1 M   \n",
      "44 | model.up4.up           | Upsample           | 0     \n",
      "45 | model.up4.conv         | Conv2d             | 1 M   \n",
      "46 | model.up4.normalize    | BatchNorm2d        | 512   \n",
      "47 | model.up4.activation   | LeakyReLU          | 0     \n",
      "48 | model.up5              | Upsample           | 442 K \n",
      "49 | model.up5.up           | Upsample           | 0     \n",
      "50 | model.up5.conv         | Conv2d             | 442 K \n",
      "51 | model.up5.normalize    | BatchNorm2d        | 256   \n",
      "52 | model.up5.activation   | LeakyReLU          | 0     \n",
      "53 | model.up6              | Upsample           | 110 K \n",
      "54 | model.up6.up           | Upsample           | 0     \n",
      "55 | model.up6.conv         | Conv2d             | 110 K \n",
      "56 | model.up6.normalize    | BatchNorm2d        | 128   \n",
      "57 | model.up6.activation   | LeakyReLU          | 0     \n",
      "58 | model.up7              | Upsample           | 1 K   \n",
      "59 | model.up7.up           | Upsample           | 0     \n",
      "60 | model.up7.conv         | Conv2d             | 1 K   \n",
      "61 | model.up7.normalize    | BatchNorm2d        | 6     \n",
      "62 | model.tanh             | Tanh               | 0     \n"
     ]
    },
    {
     "data": {
      "application/vnd.jupyter.widget-view+json": {
       "model_id": "",
       "version_major": 2,
       "version_minor": 0
      },
      "text/plain": [
       "HBox(children=(HTML(value='Validation sanity check'), FloatProgress(value=1.0, bar_style='info', layout=Layout…"
      ]
     },
     "metadata": {},
     "output_type": "display_data"
    },
    {
     "name": "stdout",
     "output_type": "stream",
     "text": [
      "Val-Loss: 1.6450\n"
     ]
    },
    {
     "data": {
      "application/vnd.jupyter.widget-view+json": {
       "model_id": "0ed150bcca2e417887423153c7e77039",
       "version_major": 2,
       "version_minor": 0
      },
      "text/plain": [
       "HBox(children=(HTML(value='Training'), FloatProgress(value=1.0, bar_style='info', layout=Layout(flex='2'), max…"
      ]
     },
     "metadata": {},
     "output_type": "display_data"
    },
    {
     "name": "stderr",
     "output_type": "stream",
     "text": [
      "Detected KeyboardInterrupt, attempting graceful shutdown...\n"
     ]
    },
    {
     "name": "stdout",
     "output_type": "stream",
     "text": [
      "\n"
     ]
    },
    {
     "data": {
      "text/plain": [
       "1"
      ]
     },
     "execution_count": 2,
     "metadata": {},
     "output_type": "execute_result"
    }
   ],
   "source": [
    "max_epochs = 5\n",
    "\n",
    "trainer = pl.Trainer(\n",
    "    max_epochs=max_epochs,\n",
    "    gpus=0\n",
    ")\n",
    "\n",
    "trainer.fit(model)"
   ]
  },
  {
   "cell_type": "code",
   "execution_count": null,
   "metadata": {},
   "outputs": [],
   "source": []
  }
 ],
 "metadata": {
  "kernelspec": {
   "display_name": "Python 3",
   "language": "python",
   "name": "python3"
  },
  "language_info": {
   "codemirror_mode": {
    "name": "ipython",
    "version": 3
   },
   "file_extension": ".py",
   "mimetype": "text/x-python",
   "name": "python",
   "nbconvert_exporter": "python",
   "pygments_lexer": "ipython3",
   "version": "3.7.6"
  }
 },
 "nbformat": 4,
 "nbformat_minor": 4
}
