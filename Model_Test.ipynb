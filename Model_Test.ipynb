{
 "cells": [
  {
   "cell_type": "code",
   "execution_count": null,
   "metadata": {},
   "outputs": [],
   "source": [
    "import pytorch_lightning as pl\n",
    "from models.inpainting_model import InpaintingModel\n",
    "from models.flow_model import FlowModel\n",
    "from models.occlusion_model import OcclusionModel\n",
    "from models.flow_occ_model import FlowOccModel\n",
    "from models.networks.lightning_datamodule import ImageFlowOccModule\n",
    "from models.data.utils.flow_utils import flow2img\n",
    "import matplotlib.pyplot as plt\n",
    "import torch\n",
    "# flow occ model should be ['simple', 'flowoccnets', 'flowoccnetc', 'pwoc', 'flowoccnet']\n",
    "# optical flow model should be ['simple', 'flownets', 'flownetc', 'pwc', 'flownet']\n",
    "# occlusion model should be ['simple', 'occnets', 'occnetc']\n",
    "hparams = dict(learning_rate=1e-3, batch_size=32, image_size=(512, 1024), model='simple')\n",
    "root = r'/home/tnguyen/dataset/ycb'\n",
    "model = FlowModel(root=root, hparams=hparams)\n"
   ]
  },
  {
   "cell_type": "code",
   "execution_count": null,
   "metadata": {},
   "outputs": [],
   "source": [
    "data_module = ImageFlowOccModule(root = root, image_size= (512,1024), batch_size=32)\n",
    "data_module.prepare_data()\n",
    "data_module.setup()"
   ]
  },
  {
   "cell_type": "code",
   "execution_count": null,
   "metadata": {},
   "outputs": [],
   "source": [
    "dataloader =data_module.train_dataloader()\n",
    "img, flow, occ = next(iter(dataloader))"
   ]
  },
  {
   "cell_type": "code",
   "execution_count": null,
   "metadata": {},
   "outputs": [],
   "source": [
    "img1 = img[0,:3,:,:]\n",
    "img2 = img[0,3:,:,:]\n",
    "flow_ = flow[0,:,:,:]\n",
    "occ_ = occ[0,:,:,:]"
   ]
  },
  {
   "cell_type": "code",
   "execution_count": null,
   "metadata": {},
   "outputs": [],
   "source": [
    "img1 = img1.detach().cpu().numpy().transpose(1, 2, 0)\n",
    "img2 = img2.detach().cpu().numpy().transpose(1, 2, 0)\n",
    "occ_ = occ_.detach().cpu().numpy().transpose(1, 2, 0)\n",
    "flow_ = flow_.detach().cpu().numpy().transpose(1, 2, 0)"
   ]
  },
  {
   "cell_type": "code",
   "execution_count": null,
   "metadata": {},
   "outputs": [],
   "source": [
    "im_flow = flow2img(flow_)"
   ]
  },
  {
   "cell_type": "code",
   "execution_count": null,
   "metadata": {},
   "outputs": [],
   "source": [
    "\n",
    "plt.figure(figsize=(12, 4 * 5))\n",
    "plt.subplot(4, 1, 1)\n",
    "plt.imshow(img1/2.0 + 0.5)\n",
    "plt.title('image 1')\n",
    "\n",
    "plt.subplot(4, 1, 2)\n",
    "plt.imshow(img2/2.0 + 0.5)\n",
    "plt.title('image 2')\n",
    "\n",
    "plt.subplot(4, 1, 3)\n",
    "plt.imshow(occ_)\n",
    "plt.title('occlusion map')\n",
    "\n",
    "plt.subplot(4, 1, 4)\n",
    "plt.imshow(im_flow)\n",
    "plt.title('optical flow')"
   ]
  },
  {
   "cell_type": "code",
   "execution_count": null,
   "metadata": {},
   "outputs": [],
   "source": [
    "\n",
    "flow_bt = model(torch.unsqueeze(img[0],0))\n",
    "flow_bt = flow_bt.squeeze().detach().cpu().numpy().transpose(1, 2, 0)\n",
    "im_flow_bt = flow2img(flow_bt)\n",
    "plt.imshow(im_flow_bt)\n",
    "plt.title('optical flow')"
   ]
  },
  {
   "cell_type": "code",
   "execution_count": null,
   "metadata": {
    "tags": [
     "outputPrepend"
    ]
   },
   "outputs": [],
   "source": [
    "max_epochs = 100\n",
    "\n",
    "trainer = pl.Trainer(\n",
    "    max_epochs=max_epochs, gpus=1, overfit_batches = 1\n",
    ")\n",
    "\n",
    "trainer.fit(model, data_module)"
   ]
  },
  {
   "cell_type": "code",
   "execution_count": null,
   "metadata": {},
   "outputs": [],
   "source": [
    "#model.load_from_checkpoint(checkpoint_path='./lightning_logs/lr=4e-3,whole dataset/checkpoints/epoch=32.ckpt')\n",
    "flow_at = model(torch.unsqueeze(img[0],0))\n",
    "flow_at = flow_at.squeeze().detach().cpu().numpy().transpose(1, 2, 0)\n",
    "im_flow_at = flow2img(flow_at)\n",
    "plt.imshow(im_flow_at)\n",
    "plt.title('optical flow after training ')"
   ]
  }
 ],
 "metadata": {
  "kernelspec": {
   "display_name": "Python 3",
   "language": "python",
   "name": "python3"
  },
  "language_info": {
   "codemirror_mode": {
    "name": "ipython",
    "version": 3
   },
   "file_extension": ".py",
   "mimetype": "text/x-python",
   "name": "python",
   "nbconvert_exporter": "python",
   "pygments_lexer": "ipython3",
   "version": "3.8.3-final"
  }
 },
 "nbformat": 4,
 "nbformat_minor": 4
}