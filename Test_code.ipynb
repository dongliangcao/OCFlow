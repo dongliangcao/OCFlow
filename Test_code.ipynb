{
 "cells": [
  {
   "cell_type": "code",
   "execution_count": 1,
   "metadata": {},
   "outputs": [],
   "source": [
    "import torch\n",
    "from torchsummary import summary\n",
    "from models.ocflow_model import OCFlowModel\n",
    "from models.networks.ocflownet import OCFlowNet\n",
    "#from models.networks.image_inpainting_net import SceneCompletionNet\n",
    "#from models.networks.mask_flow_net import MaskFlowNet\n",
    "#from models.networks.flow_occ_net import OcclusionEstimator, CostVolumeLayer, OpticalFlowEstimator\n",
    "#from models.networks.feature_pyramid_net import FeaturePyramidNet\n",
    "#from models.networks.warping_layer import Warping\n",
    "#from models.networks.context_net import ContextNetwork\n",
    "from models.data.datasets import MpiSintelClean, MpiSintelFinal, FlyingChairs\n",
    "from torch.utils.data import DataLoader"
   ]
  },
  {
   "cell_type": "code",
   "execution_count": null,
   "metadata": {},
   "outputs": [],
   "source": [
    "#pyramid_net = FeaturePyramidNet()\n",
    "#summary(pyramid_net, (3,384, 1024))"
   ]
  },
  {
   "cell_type": "code",
   "execution_count": null,
   "metadata": {
    "scrolled": true
   },
   "outputs": [],
   "source": [
    "#occlusion_net = OcclusionEstimator(392,level =6, highest_resolution =False)\n",
    "#summary(occlusion_net, (392,6,16), 12,32)"
   ]
  },
  {
   "cell_type": "code",
   "execution_count": null,
   "metadata": {},
   "outputs": [],
   "source": [
    "#correlation_layer = CostVolumeLayer()\n",
    "#cv = summary(correlation_layer, (torch.Size([196, 6,16]), torch.Size([196, 6, 16])))"
   ]
  },
  {
   "cell_type": "code",
   "execution_count": null,
   "metadata": {},
   "outputs": [],
   "source": [
    "#opticalflow_estimator = OpticalFlowEstimator(277,level =6, highest_resolution =False)\n",
    "#summary(opticalflow_estimator, (277,6,16), 12,32)"
   ]
  },
  {
   "cell_type": "code",
   "execution_count": null,
   "metadata": {
    "scrolled": true
   },
   "outputs": [],
   "source": [
    "#context_network = ContextNetwork(34)\n",
    "#summary(context_network,(34,96,256))"
   ]
  },
  {
   "cell_type": "code",
   "execution_count": null,
   "metadata": {},
   "outputs": [],
   "source": [
    "#maskflow_net = MaskFlowNet()\n",
    "#summary(maskflow_net, (2,3,384,1024))"
   ]
  },
  {
   "cell_type": "code",
   "execution_count": null,
   "metadata": {
    "scrolled": true
   },
   "outputs": [],
   "source": [
    "#scene_net = SceneCompletionNet()\n",
    "#summary(scene_net, (3,384,1024), device = 'cpu')"
   ]
  },
  {
   "cell_type": "code",
   "execution_count": null,
   "metadata": {},
   "outputs": [],
   "source": [
    "#ocflow_net = OCFlowNet()\n",
    "#summary(ocflow_net, (2,3,384,1024))"
   ]
  },
  {
   "cell_type": "markdown",
   "metadata": {},
   "source": [
    "# Load data    "
   ]
  },
  {
   "cell_type": "code",
   "execution_count": null,
   "metadata": {},
   "outputs": [],
   "source": [
    "dataset = MpiSintelClean(root = '/home/trung/MPI-Sintel-training/training')\n",
    "dataloader = DataLoader(dataset, batch_size=1, shuffle=True, num_workers=0)\n",
    "iterator = iter(dataloader)\n",
    "images, flow = iterator.next()\n",
    "current_frames = images[:,0, :, :, :]\n",
    "next_frames = images[:, 1, :, :, :]"
   ]
  },
  {
   "cell_type": "markdown",
   "metadata": {},
   "source": [
    "# Test FeaturePyramidNet backward pass"
   ]
  },
  {
   "cell_type": "code",
   "execution_count": null,
   "metadata": {},
   "outputs": [],
   "source": [
    "pyramid_net = FeaturePyramidNet()"
   ]
  },
  {
   "cell_type": "code",
   "execution_count": null,
   "metadata": {},
   "outputs": [],
   "source": [
    "pyramid_im1 = pyramid_net(current_frames)"
   ]
  },
  {
   "cell_type": "code",
   "execution_count": null,
   "metadata": {},
   "outputs": [],
   "source": [
    "grad_tensors = []\n",
    "for i in range(len(pyramid_im1)): \n",
    "    grad_tensors.append(torch.randn(pyramid_im1[i].size()))"
   ]
  },
  {
   "cell_type": "markdown",
   "metadata": {},
   "source": [
    "**Check that gradients of all parameters in network is initialized with None:**"
   ]
  },
  {
   "cell_type": "code",
   "execution_count": null,
   "metadata": {},
   "outputs": [],
   "source": [
    "nonzero_grad = False\n",
    "for parameters in pyramid_net.parameters(): \n",
    "    if parameters.grad!=None: \n",
    "        nonzero_grad = True\n",
    "print(nonzero_grad)"
   ]
  },
  {
   "cell_type": "markdown",
   "metadata": {},
   "source": [
    "**After performing backward pass, gradients of all parameters in network is filled with nonzero values:**"
   ]
  },
  {
   "cell_type": "code",
   "execution_count": null,
   "metadata": {},
   "outputs": [],
   "source": [
    "torch.autograd.backward(pyramid_im1,grad_tensors)"
   ]
  },
  {
   "cell_type": "code",
   "execution_count": null,
   "metadata": {},
   "outputs": [],
   "source": [
    "for parameters in pyramid_net.parameters():\n",
    "    print(parameters.grad)"
   ]
  },
  {
   "cell_type": "markdown",
   "metadata": {},
   "source": [
    "# Test Warping backward pass "
   ]
  },
  {
   "cell_type": "code",
   "execution_count": null,
   "metadata": {},
   "outputs": [],
   "source": [
    "warping = Warping()"
   ]
  },
  {
   "cell_type": "code",
   "execution_count": null,
   "metadata": {},
   "outputs": [],
   "source": [
    "feat2 = torch.randn([5,128,12,32].size(), requires_grad = True)"
   ]
  },
  {
   "cell_type": "code",
   "execution_count": null,
   "metadata": {},
   "outputs": [],
   "source": [
    "flow_displacement = torch.randn([feat2.size()[0], 2, feat2.size()[2],feat2.size()[3]], requires_grad = True)\n",
    "print(flow_displacement.size())"
   ]
  },
  {
   "cell_type": "code",
   "execution_count": null,
   "metadata": {},
   "outputs": [],
   "source": [
    "print(feat2.grad)\n",
    "print(flow_displacement.grad)"
   ]
  },
  {
   "cell_type": "code",
   "execution_count": null,
   "metadata": {},
   "outputs": [],
   "source": [
    "warped2 = warping(feat2, flow_displacement)"
   ]
  },
  {
   "cell_type": "code",
   "execution_count": null,
   "metadata": {},
   "outputs": [],
   "source": [
    "warped2.size()"
   ]
  },
  {
   "cell_type": "code",
   "execution_count": null,
   "metadata": {},
   "outputs": [],
   "source": [
    "grad_tensors = torch.randn(warped2.size())"
   ]
  },
  {
   "cell_type": "code",
   "execution_count": null,
   "metadata": {},
   "outputs": [],
   "source": [
    "nonzero_grad = False\n",
    "for parameters in warping.parameters(): \n",
    "    if parameters.grad!=None: \n",
    "        nonzero_grad = True\n",
    "print(nonzero_grad)"
   ]
  },
  {
   "cell_type": "code",
   "execution_count": null,
   "metadata": {},
   "outputs": [],
   "source": [
    "torch.autograd.backward(warped2, grad_tensors)"
   ]
  },
  {
   "cell_type": "code",
   "execution_count": null,
   "metadata": {},
   "outputs": [],
   "source": [
    "print(feat2.grad)\n",
    "print(flow_displacement.grad)"
   ]
  },
  {
   "cell_type": "markdown",
   "metadata": {},
   "source": [
    "# Test OcclusionEstimator backward pass "
   ]
  },
  {
   "cell_type": "code",
   "execution_count": null,
   "metadata": {},
   "outputs": [],
   "source": [
    "occlu_net = OcclusionEstimator(258, level=5, highest_resolution=False)"
   ]
  },
  {
   "cell_type": "code",
   "execution_count": null,
   "metadata": {},
   "outputs": [],
   "source": [
    "feat1 = torch.randn([5,128,12,32], requires_grad = True)\n",
    "occ_features_up = torch.randn([feat1.size()[0], 1, feat1.size()[2],feat1.size()[3]], requires_grad = True)\n",
    "occ_mask_up = torch.randn([feat1.size()[0], 1, feat1.size()[2],feat1.size()[3]], requires_grad = True)\n",
    "warped2 = torch.randn([5,128,12,32], requires_grad = True)"
   ]
  },
  {
   "cell_type": "code",
   "execution_count": null,
   "metadata": {},
   "outputs": [],
   "source": [
    "occ_inputs = torch.cat([feat1, warped2, occ_features_up, occ_mask_up], dim=1)"
   ]
  },
  {
   "cell_type": "code",
   "execution_count": null,
   "metadata": {},
   "outputs": [],
   "source": [
    "nonzero_grad = False\n",
    "for parameters in occlu_net.parameters(): \n",
    "    if parameters.grad!=None: \n",
    "        nonzero_grad = True\n",
    "print(nonzero_grad)"
   ]
  },
  {
   "cell_type": "code",
   "execution_count": null,
   "metadata": {},
   "outputs": [],
   "source": [
    " occ_mask, feat_up, mask_up = occlu_net(occ_inputs,24, 64)"
   ]
  },
  {
   "cell_type": "code",
   "execution_count": null,
   "metadata": {},
   "outputs": [],
   "source": [
    "grad_tensors = [torch.randn(occ_mask.size()),torch.randn(feat_up.size()), torch.randn(mask_up.size()) ]"
   ]
  },
  {
   "cell_type": "code",
   "execution_count": null,
   "metadata": {},
   "outputs": [],
   "source": [
    "torch.autograd.backward([ occ_mask, feat_up, mask_up],grad_tensors)"
   ]
  },
  {
   "cell_type": "code",
   "execution_count": null,
   "metadata": {},
   "outputs": [],
   "source": [
    "for parameters in occlu_net.parameters(): \n",
    "    print(parameters.grad)"
   ]
  },
  {
   "cell_type": "markdown",
   "metadata": {},
   "source": [
    "# Test CostVolumeLayer backward pass "
   ]
  },
  {
   "cell_type": "code",
   "execution_count": null,
   "metadata": {},
   "outputs": [],
   "source": [
    "correlation_layer = CostVolumeLayer()\n",
    "feat1 = torch.randn([5,128,12,32], requires_grad = True)\n",
    "warped2 = torch.randn([5,128,12,32], requires_grad = True)\n"
   ]
  },
  {
   "cell_type": "code",
   "execution_count": null,
   "metadata": {},
   "outputs": [],
   "source": [
    "cv2 =correlation_layer(feat1, warped2)"
   ]
  },
  {
   "cell_type": "code",
   "execution_count": null,
   "metadata": {},
   "outputs": [],
   "source": [
    "cv2.shape"
   ]
  },
  {
   "cell_type": "code",
   "execution_count": null,
   "metadata": {},
   "outputs": [],
   "source": [
    "grad_tensors = torch.randn(cv2.size())"
   ]
  },
  {
   "cell_type": "code",
   "execution_count": null,
   "metadata": {},
   "outputs": [],
   "source": [
    "torch.autograd.backward(cv2, grad_tensors)"
   ]
  },
  {
   "cell_type": "code",
   "execution_count": null,
   "metadata": {},
   "outputs": [],
   "source": [
    "print(feat1.grad)\n",
    "print(warped2.grad)"
   ]
  },
  {
   "cell_type": "markdown",
   "metadata": {},
   "source": [
    "# Test OpticalFlowEstimator backward pass"
   ]
  },
  {
   "cell_type": "code",
   "execution_count": null,
   "metadata": {},
   "outputs": [],
   "source": [
    "up_flow = torch.randn([5,2, 12,32], requires_grad = True)\n",
    "up_feature =torch.randn([5,2,12,32], requires_grad = True)\n",
    "cv2 = torch.randn([5,81,12,32], requires_grad = True)\n",
    "feat1 = torch.randn([5, 128,12,32], requires_grad = True)"
   ]
  },
  {
   "cell_type": "code",
   "execution_count": null,
   "metadata": {},
   "outputs": [],
   "source": [
    "estimator_input = torch.cat([cv2, feat1, up_flow, up_feature], dim=1)"
   ]
  },
  {
   "cell_type": "code",
   "execution_count": null,
   "metadata": {},
   "outputs": [],
   "source": [
    "optical_flow_estimator = OpticalFlowEstimator(213, level=5, highest_resolution=False)"
   ]
  },
  {
   "cell_type": "code",
   "execution_count": null,
   "metadata": {},
   "outputs": [],
   "source": [
    "flow, up_flow1, up_feature1 =optical_flow_estimator(estimator_input, 24,64)"
   ]
  },
  {
   "cell_type": "code",
   "execution_count": null,
   "metadata": {},
   "outputs": [],
   "source": [
    "print(flow.shape)\n",
    "print(up_flow1.shape)\n",
    "print(up_feature1.shape)"
   ]
  },
  {
   "cell_type": "code",
   "execution_count": null,
   "metadata": {},
   "outputs": [],
   "source": [
    "grad_tensors = [torch.randn(flow.size()), torch.randn(up_flow1.size()), torch.randn(up_feature1.size())]"
   ]
  },
  {
   "cell_type": "code",
   "execution_count": null,
   "metadata": {},
   "outputs": [],
   "source": [
    "torch.autograd.backward([flow,up_flow1, up_feature1], grad_tensors)"
   ]
  },
  {
   "cell_type": "code",
   "execution_count": null,
   "metadata": {},
   "outputs": [],
   "source": [
    "for parameters in optical_flow_estimator.parameters(): \n",
    "    print(parameters.grad)"
   ]
  },
  {
   "cell_type": "markdown",
   "metadata": {},
   "source": [
    "# Test ContextNetwork backward pass"
   ]
  },
  {
   "cell_type": "code",
   "execution_count": null,
   "metadata": {},
   "outputs": [],
   "source": [
    "context_network = ContextNetwork(34)"
   ]
  },
  {
   "cell_type": "code",
   "execution_count": null,
   "metadata": {},
   "outputs": [],
   "source": [
    "flow = torch.randn([5,34,96,256], requires_grad = True)"
   ]
  },
  {
   "cell_type": "code",
   "execution_count": null,
   "metadata": {},
   "outputs": [],
   "source": [
    "residual_flow = context_network(flow)"
   ]
  },
  {
   "cell_type": "code",
   "execution_count": null,
   "metadata": {},
   "outputs": [],
   "source": [
    "grad_tensors= torch.randn(residual_flow.size())"
   ]
  },
  {
   "cell_type": "code",
   "execution_count": null,
   "metadata": {},
   "outputs": [],
   "source": [
    "nonzero_grad = False\n",
    "for parameters in context_network.parameters(): \n",
    "    if parameters.grad!=None: \n",
    "        nonzero_grad = True\n",
    "print(nonzero_grad)"
   ]
  },
  {
   "cell_type": "code",
   "execution_count": null,
   "metadata": {},
   "outputs": [],
   "source": [
    "torch.autograd.backward(residual_flow, grad_tensors)"
   ]
  },
  {
   "cell_type": "code",
   "execution_count": null,
   "metadata": {},
   "outputs": [],
   "source": [
    "for parameters in context_network.parameters(): \n",
    "    print(parameters.grad)"
   ]
  },
  {
   "cell_type": "markdown",
   "metadata": {},
   "source": [
    "# Test MaskFlowNet backward pass "
   ]
  },
  {
   "cell_type": "code",
   "execution_count": null,
   "metadata": {},
   "outputs": [],
   "source": [
    "with torch.autograd.set_detect_anomaly(True): \n",
    "    mask_flow_net = MaskFlowNet()\n",
    "    F12, O_s = mask_flow_net(images)\n",
    "    grad_tensors = [torch.randn(F12.size()), torch.randn(O_s.size())]\n",
    "    torch.autograd.backward([F12,O_s], grad_tensors)"
   ]
  },
  {
   "cell_type": "code",
   "execution_count": null,
   "metadata": {},
   "outputs": [],
   "source": [
    "for parameters in mask_flow_net.parameters(): \n",
    "    print(parameters.grad)"
   ]
  },
  {
   "cell_type": "markdown",
   "metadata": {},
   "source": [
    "# Test SceneCompletionNet backward pass \n"
   ]
  },
  {
   "cell_type": "code",
   "execution_count": null,
   "metadata": {},
   "outputs": [],
   "source": [
    "occluded_image = torch.randn([5,3,384,1024], requires_grad = True)"
   ]
  },
  {
   "cell_type": "code",
   "execution_count": null,
   "metadata": {},
   "outputs": [],
   "source": [
    "completion_net = SceneCompletionNet()"
   ]
  },
  {
   "cell_type": "code",
   "execution_count": null,
   "metadata": {},
   "outputs": [],
   "source": [
    "reconstructed_image = completion_net(occluded_image)"
   ]
  },
  {
   "cell_type": "code",
   "execution_count": null,
   "metadata": {},
   "outputs": [],
   "source": [
    "reconstructed_image.shape"
   ]
  },
  {
   "cell_type": "code",
   "execution_count": null,
   "metadata": {},
   "outputs": [],
   "source": [
    "grad_tensors =  torch.randn([5,3,384,1024])"
   ]
  },
  {
   "cell_type": "code",
   "execution_count": null,
   "metadata": {},
   "outputs": [],
   "source": [
    "completion_net.zero_grad()"
   ]
  },
  {
   "cell_type": "code",
   "execution_count": null,
   "metadata": {},
   "outputs": [],
   "source": [
    "reconstructed_image.backward(grad_tensors)"
   ]
  },
  {
   "cell_type": "code",
   "execution_count": null,
   "metadata": {},
   "outputs": [],
   "source": [
    "for parameters in completion_net.parameters(): \n",
    "    print(parameters.grad)"
   ]
  },
  {
   "cell_type": "markdown",
   "metadata": {},
   "source": [
    "# Test OCFlownet backward pass"
   ]
  },
  {
   "cell_type": "code",
   "execution_count": null,
   "metadata": {},
   "outputs": [],
   "source": [
    "ocflownet = OCFlowNet()"
   ]
  },
  {
   "cell_type": "code",
   "execution_count": null,
   "metadata": {},
   "outputs": [],
   "source": [
    "O_s, O_h, Ic1, Iw1 = ocflownet(images)"
   ]
  },
  {
   "cell_type": "code",
   "execution_count": null,
   "metadata": {},
   "outputs": [],
   "source": [
    "images.shape"
   ]
  },
  {
   "cell_type": "code",
   "execution_count": null,
   "metadata": {},
   "outputs": [],
   "source": [
    "grad_tensors = [torch.randn(O_s.size()), torch.randn(Ic1.size()), torch.randn(Iw1.size())]"
   ]
  },
  {
   "cell_type": "code",
   "execution_count": null,
   "metadata": {},
   "outputs": [],
   "source": [
    "print(O_s.grad_fn)\n",
    "print(O_h.grad_fn)\n",
    "print(Ic1.grad_fn)\n",
    "print(Iw1.grad_fn)"
   ]
  },
  {
   "cell_type": "code",
   "execution_count": null,
   "metadata": {},
   "outputs": [],
   "source": [
    "O_h.requires_grad"
   ]
  },
  {
   "cell_type": "code",
   "execution_count": null,
   "metadata": {},
   "outputs": [],
   "source": [
    "torch.autograd.backward([O_s, Ic1, Iw1], grad_tensors)"
   ]
  },
  {
   "cell_type": "markdown",
   "metadata": {},
   "source": [
    "# Test OCFlowModel"
   ]
  },
  {
   "cell_type": "code",
   "execution_count": 2,
   "metadata": {},
   "outputs": [],
   "source": [
    "model = OCFlowModel(dataset_name = 'MpiSintelClean', root = '/home/trung/MPI-Sintel-training/training', batch_size =32, num_epoch = 1, print_every = 1)"
   ]
  },
  {
   "cell_type": "code",
   "execution_count": 3,
   "metadata": {},
   "outputs": [
    {
     "data": {
      "text/plain": [
       "32"
      ]
     },
     "execution_count": 3,
     "metadata": {},
     "output_type": "execute_result"
    }
   ],
   "source": [
    "model.batch_size"
   ]
  },
  {
   "cell_type": "code",
   "execution_count": null,
   "metadata": {},
   "outputs": [
    {
     "name": "stdout",
     "output_type": "stream",
     "text": [
      "torch.Size([32, 3, 384, 1024])\n",
      "torch.Size([32, 3, 384, 1024])\n"
     ]
    }
   ],
   "source": [
    "model.train()"
   ]
  },
  {
   "cell_type": "code",
   "execution_count": null,
   "metadata": {},
   "outputs": [],
   "source": [
    "model.dataset[0]"
   ]
  }
 ],
 "metadata": {
  "kernelspec": {
   "display_name": "Python 3",
   "language": "python",
   "name": "python3"
  },
  "language_info": {
   "codemirror_mode": {
    "name": "ipython",
    "version": 3
   },
   "file_extension": ".py",
   "mimetype": "text/x-python",
   "name": "python",
   "nbconvert_exporter": "python",
   "pygments_lexer": "ipython3",
   "version": "3.8.3"
  }
 },
 "nbformat": 4,
 "nbformat_minor": 4
}
