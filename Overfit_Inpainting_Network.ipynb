{
 "cells": [
  {
   "cell_type": "code",
   "execution_count": 1,
   "metadata": {},
   "outputs": [],
   "source": [
    "import pytorch_lightning as pl\n",
    "from models.inpainting_model import InpaintingModel\n",
    "from models.flow_model import FlowModel\n",
    "from models.occlusion_model import OcclusionModel"
   ]
  },
  {
   "cell_type": "code",
   "execution_count": 2,
   "metadata": {},
   "outputs": [
    {
     "data": {
      "text/plain": [
       "FlowModel(\n",
       "  (model): FlowNetS(\n",
       "    (conv1): Sequential(\n",
       "      (0): Conv2d(6, 64, kernel_size=(7, 7), stride=(2, 2), padding=(3, 3), bias=False)\n",
       "      (1): BatchNorm2d(64, eps=1e-05, momentum=0.1, affine=True, track_running_stats=True)\n",
       "      (2): LeakyReLU(negative_slope=0.1, inplace=True)\n",
       "    )\n",
       "    (conv2): Sequential(\n",
       "      (0): Conv2d(64, 128, kernel_size=(5, 5), stride=(2, 2), padding=(2, 2), bias=False)\n",
       "      (1): BatchNorm2d(128, eps=1e-05, momentum=0.1, affine=True, track_running_stats=True)\n",
       "      (2): LeakyReLU(negative_slope=0.1, inplace=True)\n",
       "    )\n",
       "    (conv3): Sequential(\n",
       "      (0): Conv2d(128, 256, kernel_size=(5, 5), stride=(2, 2), padding=(2, 2), bias=False)\n",
       "      (1): BatchNorm2d(256, eps=1e-05, momentum=0.1, affine=True, track_running_stats=True)\n",
       "      (2): LeakyReLU(negative_slope=0.1, inplace=True)\n",
       "    )\n",
       "    (conv3_1): Sequential(\n",
       "      (0): Conv2d(256, 256, kernel_size=(3, 3), stride=(1, 1), padding=(1, 1), bias=False)\n",
       "      (1): BatchNorm2d(256, eps=1e-05, momentum=0.1, affine=True, track_running_stats=True)\n",
       "      (2): LeakyReLU(negative_slope=0.1, inplace=True)\n",
       "    )\n",
       "    (conv4): Sequential(\n",
       "      (0): Conv2d(256, 512, kernel_size=(3, 3), stride=(2, 2), padding=(1, 1), bias=False)\n",
       "      (1): BatchNorm2d(512, eps=1e-05, momentum=0.1, affine=True, track_running_stats=True)\n",
       "      (2): LeakyReLU(negative_slope=0.1, inplace=True)\n",
       "    )\n",
       "    (conv4_1): Sequential(\n",
       "      (0): Conv2d(512, 512, kernel_size=(3, 3), stride=(1, 1), padding=(1, 1), bias=False)\n",
       "      (1): BatchNorm2d(512, eps=1e-05, momentum=0.1, affine=True, track_running_stats=True)\n",
       "      (2): LeakyReLU(negative_slope=0.1, inplace=True)\n",
       "    )\n",
       "    (conv5): Sequential(\n",
       "      (0): Conv2d(512, 512, kernel_size=(3, 3), stride=(2, 2), padding=(1, 1), bias=False)\n",
       "      (1): BatchNorm2d(512, eps=1e-05, momentum=0.1, affine=True, track_running_stats=True)\n",
       "      (2): LeakyReLU(negative_slope=0.1, inplace=True)\n",
       "    )\n",
       "    (conv5_1): Sequential(\n",
       "      (0): Conv2d(512, 512, kernel_size=(3, 3), stride=(1, 1), padding=(1, 1), bias=False)\n",
       "      (1): BatchNorm2d(512, eps=1e-05, momentum=0.1, affine=True, track_running_stats=True)\n",
       "      (2): LeakyReLU(negative_slope=0.1, inplace=True)\n",
       "    )\n",
       "    (conv6): Sequential(\n",
       "      (0): Conv2d(512, 1024, kernel_size=(3, 3), stride=(2, 2), padding=(1, 1), bias=False)\n",
       "      (1): BatchNorm2d(1024, eps=1e-05, momentum=0.1, affine=True, track_running_stats=True)\n",
       "      (2): LeakyReLU(negative_slope=0.1, inplace=True)\n",
       "    )\n",
       "    (conv6_1): Sequential(\n",
       "      (0): Conv2d(1024, 1024, kernel_size=(3, 3), stride=(1, 1), padding=(1, 1), bias=False)\n",
       "      (1): BatchNorm2d(1024, eps=1e-05, momentum=0.1, affine=True, track_running_stats=True)\n",
       "      (2): LeakyReLU(negative_slope=0.1, inplace=True)\n",
       "    )\n",
       "    (deconv5): Sequential(\n",
       "      (0): ConvTranspose2d(1024, 512, kernel_size=(4, 4), stride=(2, 2), padding=(1, 1))\n",
       "      (1): LeakyReLU(negative_slope=0.1, inplace=True)\n",
       "    )\n",
       "    (deconv4): Sequential(\n",
       "      (0): ConvTranspose2d(1026, 256, kernel_size=(4, 4), stride=(2, 2), padding=(1, 1))\n",
       "      (1): LeakyReLU(negative_slope=0.1, inplace=True)\n",
       "    )\n",
       "    (deconv3): Sequential(\n",
       "      (0): ConvTranspose2d(770, 128, kernel_size=(4, 4), stride=(2, 2), padding=(1, 1))\n",
       "      (1): LeakyReLU(negative_slope=0.1, inplace=True)\n",
       "    )\n",
       "    (deconv2): Sequential(\n",
       "      (0): ConvTranspose2d(386, 64, kernel_size=(4, 4), stride=(2, 2), padding=(1, 1))\n",
       "      (1): LeakyReLU(negative_slope=0.1, inplace=True)\n",
       "    )\n",
       "    (predict_flow6): Conv2d(1024, 2, kernel_size=(3, 3), stride=(1, 1), padding=(1, 1))\n",
       "    (predict_flow5): Conv2d(1026, 2, kernel_size=(3, 3), stride=(1, 1), padding=(1, 1))\n",
       "    (predict_flow4): Conv2d(770, 2, kernel_size=(3, 3), stride=(1, 1), padding=(1, 1))\n",
       "    (predict_flow3): Conv2d(386, 2, kernel_size=(3, 3), stride=(1, 1), padding=(1, 1))\n",
       "    (predict_flow2): Conv2d(194, 2, kernel_size=(3, 3), stride=(1, 1), padding=(1, 1))\n",
       "    (upsampled_flow6_to_5): ConvTranspose2d(2, 2, kernel_size=(4, 4), stride=(2, 2), padding=(1, 1), bias=False)\n",
       "    (upsampled_flow5_to_4): ConvTranspose2d(2, 2, kernel_size=(4, 4), stride=(2, 2), padding=(1, 1), bias=False)\n",
       "    (upsampled_flow4_to_3): ConvTranspose2d(2, 2, kernel_size=(4, 4), stride=(2, 2), padding=(1, 1), bias=False)\n",
       "    (upsampled_flow3_to_2): ConvTranspose2d(2, 2, kernel_size=(4, 4), stride=(2, 2), padding=(1, 1), bias=False)\n",
       "    (upsample1): Upsample(scale_factor=4.0, mode=bilinear)\n",
       "  )\n",
       ")"
      ]
     },
     "execution_count": 2,
     "metadata": {},
     "output_type": "execute_result"
    }
   ],
   "source": [
    "# model should be ['simple', 'flownets', 'flownetc', 'pwc']\n",
    "hparams = dict(learning_rate=1e-3, batch_size=1, image_size=(512, 1024), model='flownets')\n",
    "root = r'C:\\Users\\caodo\\Desktop\\TUM\\Praktikum Visual Computing\\project\\data'\n",
    "model = FlowModel(root=root, hparams=hparams)\n",
    "model"
   ]
  },
  {
   "cell_type": "code",
   "execution_count": 3,
   "metadata": {},
   "outputs": [
    {
     "name": "stderr",
     "output_type": "stream",
     "text": [
      "GPU available: True, used: False\n",
      "No environment variable for node rank defined. Set as 0.\n",
      "\n",
      "   | Name                       | Type            | Params\n",
      "-----------------------------------------------------------\n",
      "0  | model                      | FlowNetS        | 38 M  \n",
      "1  | model.conv1                | Sequential      | 18 K  \n",
      "2  | model.conv1.0              | Conv2d          | 18 K  \n",
      "3  | model.conv1.1              | BatchNorm2d     | 128   \n",
      "4  | model.conv1.2              | LeakyReLU       | 0     \n",
      "5  | model.conv2                | Sequential      | 205 K \n",
      "6  | model.conv2.0              | Conv2d          | 204 K \n",
      "7  | model.conv2.1              | BatchNorm2d     | 256   \n",
      "8  | model.conv2.2              | LeakyReLU       | 0     \n",
      "9  | model.conv3                | Sequential      | 819 K \n",
      "10 | model.conv3.0              | Conv2d          | 819 K \n",
      "11 | model.conv3.1              | BatchNorm2d     | 512   \n",
      "12 | model.conv3.2              | LeakyReLU       | 0     \n",
      "13 | model.conv3_1              | Sequential      | 590 K \n",
      "14 | model.conv3_1.0            | Conv2d          | 589 K \n",
      "15 | model.conv3_1.1            | BatchNorm2d     | 512   \n",
      "16 | model.conv3_1.2            | LeakyReLU       | 0     \n",
      "17 | model.conv4                | Sequential      | 1 M   \n",
      "18 | model.conv4.0              | Conv2d          | 1 M   \n",
      "19 | model.conv4.1              | BatchNorm2d     | 1 K   \n",
      "20 | model.conv4.2              | LeakyReLU       | 0     \n",
      "21 | model.conv4_1              | Sequential      | 2 M   \n",
      "22 | model.conv4_1.0            | Conv2d          | 2 M   \n",
      "23 | model.conv4_1.1            | BatchNorm2d     | 1 K   \n",
      "24 | model.conv4_1.2            | LeakyReLU       | 0     \n",
      "25 | model.conv5                | Sequential      | 2 M   \n",
      "26 | model.conv5.0              | Conv2d          | 2 M   \n",
      "27 | model.conv5.1              | BatchNorm2d     | 1 K   \n",
      "28 | model.conv5.2              | LeakyReLU       | 0     \n",
      "29 | model.conv5_1              | Sequential      | 2 M   \n",
      "30 | model.conv5_1.0            | Conv2d          | 2 M   \n",
      "31 | model.conv5_1.1            | BatchNorm2d     | 1 K   \n",
      "32 | model.conv5_1.2            | LeakyReLU       | 0     \n",
      "33 | model.conv6                | Sequential      | 4 M   \n",
      "34 | model.conv6.0              | Conv2d          | 4 M   \n",
      "35 | model.conv6.1              | BatchNorm2d     | 2 K   \n",
      "36 | model.conv6.2              | LeakyReLU       | 0     \n",
      "37 | model.conv6_1              | Sequential      | 9 M   \n",
      "38 | model.conv6_1.0            | Conv2d          | 9 M   \n",
      "39 | model.conv6_1.1            | BatchNorm2d     | 2 K   \n",
      "40 | model.conv6_1.2            | LeakyReLU       | 0     \n",
      "41 | model.deconv5              | Sequential      | 8 M   \n",
      "42 | model.deconv5.0            | ConvTranspose2d | 8 M   \n",
      "43 | model.deconv5.1            | LeakyReLU       | 0     \n",
      "44 | model.deconv4              | Sequential      | 4 M   \n",
      "45 | model.deconv4.0            | ConvTranspose2d | 4 M   \n",
      "46 | model.deconv4.1            | LeakyReLU       | 0     \n",
      "47 | model.deconv3              | Sequential      | 1 M   \n",
      "48 | model.deconv3.0            | ConvTranspose2d | 1 M   \n",
      "49 | model.deconv3.1            | LeakyReLU       | 0     \n",
      "50 | model.deconv2              | Sequential      | 395 K \n",
      "51 | model.deconv2.0            | ConvTranspose2d | 395 K \n",
      "52 | model.deconv2.1            | LeakyReLU       | 0     \n",
      "53 | model.predict_flow6        | Conv2d          | 18 K  \n",
      "54 | model.predict_flow5        | Conv2d          | 18 K  \n",
      "55 | model.predict_flow4        | Conv2d          | 13 K  \n",
      "56 | model.predict_flow3        | Conv2d          | 6 K   \n",
      "57 | model.predict_flow2        | Conv2d          | 3 K   \n",
      "58 | model.upsampled_flow6_to_5 | ConvTranspose2d | 64    \n",
      "59 | model.upsampled_flow5_to_4 | ConvTranspose2d | 64    \n",
      "60 | model.upsampled_flow4_to_3 | ConvTranspose2d | 64    \n",
      "61 | model.upsampled_flow3_to_2 | ConvTranspose2d | 64    \n",
      "62 | model.upsample1            | Upsample        | 0     \n"
     ]
    },
    {
     "data": {
      "application/vnd.jupyter.widget-view+json": {
       "model_id": "",
       "version_major": 2,
       "version_minor": 0
      },
      "text/plain": [
       "HBox(children=(HTML(value='Validation sanity check'), FloatProgress(value=1.0, bar_style='info', layout=Layout…"
      ]
     },
     "metadata": {},
     "output_type": "display_data"
    },
    {
     "name": "stderr",
     "output_type": "stream",
     "text": [
      "C:\\Users\\caodo\\anaconda3\\lib\\site-packages\\torch\\nn\\functional.py:3063: UserWarning: Default upsampling behavior when mode=bilinear is changed to align_corners=False since 0.4.0. Please specify align_corners=True if the old behavior is desired. See the documentation of nn.Upsample for details.\n",
      "  \"See the documentation of nn.Upsample for details.\".format(mode))\n"
     ]
    },
    {
     "name": "stdout",
     "output_type": "stream",
     "text": [
      "Val-Loss: 1.8634\n"
     ]
    },
    {
     "data": {
      "application/vnd.jupyter.widget-view+json": {
       "model_id": "32c62054ab704535a0b49b9efdf3c835",
       "version_major": 2,
       "version_minor": 0
      },
      "text/plain": [
       "HBox(children=(HTML(value='Training'), FloatProgress(value=1.0, bar_style='info', layout=Layout(flex='2'), max…"
      ]
     },
     "metadata": {},
     "output_type": "display_data"
    },
    {
     "name": "stderr",
     "output_type": "stream",
     "text": [
      "Detected KeyboardInterrupt, attempting graceful shutdown...\n"
     ]
    },
    {
     "name": "stdout",
     "output_type": "stream",
     "text": [
      "\n"
     ]
    },
    {
     "data": {
      "text/plain": [
       "1"
      ]
     },
     "execution_count": 3,
     "metadata": {},
     "output_type": "execute_result"
    }
   ],
   "source": [
    "max_epochs = 5\n",
    "\n",
    "trainer = pl.Trainer(\n",
    "    max_epochs=max_epochs,\n",
    "    gpus=0\n",
    ")\n",
    "\n",
    "trainer.fit(model)"
   ]
  },
  {
   "cell_type": "code",
   "execution_count": null,
   "metadata": {},
   "outputs": [],
   "source": []
  }
 ],
 "metadata": {
  "kernelspec": {
   "display_name": "Python 3",
   "language": "python",
   "name": "python3"
  },
  "language_info": {
   "codemirror_mode": {
    "name": "ipython",
    "version": 3
   },
   "file_extension": ".py",
   "mimetype": "text/x-python",
   "name": "python",
   "nbconvert_exporter": "python",
   "pygments_lexer": "ipython3",
   "version": "3.7.6"
  }
 },
 "nbformat": 4,
 "nbformat_minor": 4
}
